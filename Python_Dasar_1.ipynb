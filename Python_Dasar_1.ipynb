{
  "nbformat": 4,
  "nbformat_minor": 0,
  "metadata": {
    "colab": {
      "name": "Python Dasar 1.ipynb",
      "provenance": [],
      "collapsed_sections": [],
      "authorship_tag": "ABX9TyNsZ2bjpT9oML9TyXO0zop6",
      "include_colab_link": true
    },
    "kernelspec": {
      "name": "python3",
      "display_name": "Python 3"
    },
    "language_info": {
      "name": "python"
    }
  },
  "cells": [
    {
      "cell_type": "markdown",
      "metadata": {
        "id": "view-in-github",
        "colab_type": "text"
      },
      "source": [
        "<a href=\"https://colab.research.google.com/github/Taufik-dot/Learning-Python/blob/main/Python_Dasar_1.ipynb\" target=\"_parent\"><img src=\"https://colab.research.google.com/assets/colab-badge.svg\" alt=\"Open In Colab\"/></a>"
      ]
    },
    {
      "cell_type": "markdown",
      "source": [
        "# Python Dasar 1\n",
        "\n",
        "by. Nurul Taufik Kurrahman"
      ],
      "metadata": {
        "id": "OoMsLIvxeKS6"
      }
    },
    {
      "cell_type": "markdown",
      "source": [
        "\n",
        "**Python** adalah bahasa pemrograman yang ditujukan untuk *general-purpose programming* dan termasuk dalam kategori *high-level programming languag*e.\n",
        "\n",
        "Sebagai *general-purpose programming language*, Python digunakan untuk berbagai macam permasalahan seperti: pengembangan aplikasi web ataupun mobile, data science, dll.\n",
        "\n",
        "Python masuk ke dalam kategori *high-level programming language* dikarenakan bahasa pemrograman Python yang mudah untuk dibaca dan dituliskan oleh manusia.\n",
        "\n",
        "Bahasa  pemrograman  Python  diciptakan  oleh Guido van Rossum dan pertama kali diperkenalkan pada tahun 1991 sebagai sebuah proyek open-source.\n",
        "\n",
        "Sifat open-source dari Python mengartikan bahwa setiap orang dapat mengembangkan program komputer dengan menggunakan bahasa pemrograman Python baik untuk tujuan komersil/non-komersil."
      ],
      "metadata": {
        "id": "t9NtRqyAd4nd"
      }
    },
    {
      "cell_type": "markdown",
      "source": [
        "# Fungsi print().\n",
        "\n",
        "Dengan fungsi print(), aku dapat menampilkan pesan ke layar pengguna."
      ],
      "metadata": {
        "id": "HwxU03sEfz25"
      }
    },
    {
      "cell_type": "code",
      "source": [
        "print(\"Hello World!\")"
      ],
      "metadata": {
        "colab": {
          "base_uri": "https://localhost:8080/"
        },
        "id": "fOrLL7Fdf_WN",
        "outputId": "54afb52e-9ded-4e5d-f7be-409712f5adbd"
      },
      "execution_count": null,
      "outputs": [
        {
          "output_type": "stream",
          "name": "stdout",
          "text": [
            "Hello World!\n"
          ]
        }
      ]
    },
    {
      "cell_type": "code",
      "source": [
        "print(\"Saat ini saya sedang re-learn Bahasa Python :)\")"
      ],
      "metadata": {
        "colab": {
          "base_uri": "https://localhost:8080/"
        },
        "id": "nOaO5NUJgMoI",
        "outputId": "9510b49d-86d0-42ca-c7ca-e1acee6f60eb"
      },
      "execution_count": null,
      "outputs": [
        {
          "output_type": "stream",
          "name": "stdout",
          "text": [
            "Saat ini saya sedang re-learn Bahasa Python :)\n"
          ]
        }
      ]
    },
    {
      "cell_type": "markdown",
      "source": [
        "# Struktur Program Python"
      ],
      "metadata": {
        "id": "IrS-3qBuhU_u"
      }
    },
    {
      "cell_type": "code",
      "source": [
        "#1. Statements: Instruksi yang diberikan secara baris per baris untuk dijalankan oleh mesin.\n",
        "\n",
        "print(\"Nurul Taufik Kurrahman\")"
      ],
      "metadata": {
        "colab": {
          "base_uri": "https://localhost:8080/"
        },
        "id": "MRHYEVpIgyH7",
        "outputId": "59a42a39-6d86-4642-e251-1cbeb5c9d6c7"
      },
      "execution_count": null,
      "outputs": [
        {
          "output_type": "stream",
          "name": "stdout",
          "text": [
            "Nurul Taufik Kurrahman\n"
          ]
        }
      ]
    },
    {
      "cell_type": "code",
      "source": [
        "#2. Variables: Lokasi penyimpanan yang dapat digunakan untuk menampung sebuah data atau informasi.\n",
        "\n",
        "var1 = 4\n",
        "var2 = 9\n",
        "var3 = \"Taufik\"\n",
        "\n",
        "print(var1 + var2)\n",
        "print(var3 + str(var1 + var2))"
      ],
      "metadata": {
        "colab": {
          "base_uri": "https://localhost:8080/"
        },
        "id": "DEa4GQpEh1hl",
        "outputId": "e74b3cd6-4e77-427c-f104-838993897a9d"
      },
      "execution_count": null,
      "outputs": [
        {
          "output_type": "stream",
          "name": "stdout",
          "text": [
            "13\n",
            "Taufik13\n"
          ]
        }
      ]
    },
    {
      "cell_type": "code",
      "source": [
        "harga_asli = 20000\n",
        "potongan = 2000\n",
        "harga_setelah_potongan = harga_asli - potongan\n",
        "harga_final = harga_setelah_potongan * 1.1\n",
        "print(harga_final)"
      ],
      "metadata": {
        "colab": {
          "base_uri": "https://localhost:8080/"
        },
        "id": "TjA9tVXskU4C",
        "outputId": "f00190b7-fa18-44b2-b23d-edf6eb38443e"
      },
      "execution_count": null,
      "outputs": [
        {
          "output_type": "stream",
          "name": "stdout",
          "text": [
            "19800.0\n"
          ]
        }
      ]
    },
    {
      "cell_type": "markdown",
      "source": [
        "**Aturan Penamaan Python Variables**\n",
        "\n",
        "Penamaan suatu variabel pada python dapat dikatakan valid selama memenuhi aturan-aturan berikut: \n",
        "\n",
        "1.   Nama dari sebuah variabel harus dimulai dengan huruf (a-z, A-Z) atau karakter garis bawah underscore (_) dan tidak dapat dimulai dengan angka (0-9).\n",
        "2.   Variabel hanya boleh mengandung karakter alfabet, bilangan dan underscore (a-z, A-Z, 0-9, _).\n",
        "3.   Variabel bersifat case-sensitive yang mengartikan bahwa variabel TINGGI, tinggi, dan Tinggi merujuk pada tiga variabel berbeda.\n",
        "\n",
        "Selain dapat mendeklarasikan nilai dari suatu variabel secara baris per baris, kita juga dapat mendeklarasikan beberapa variabel dalam satu baris dengan menggunakan ekspresi seperti:"
      ],
      "metadata": {
        "id": "R6L3ZJyQXql-"
      }
    },
    {
      "cell_type": "code",
      "source": [
        "bil1, bil2 = 3, 4\n",
        "salam = \"Selamat Pagi\", penutup = \"Sampai Jumpa\""
      ],
      "metadata": {
        "id": "JJdk9OBGYYka"
      },
      "execution_count": null,
      "outputs": []
    },
    {
      "cell_type": "markdown",
      "source": [
        "1. Reserved Words: Kumpulan kata-kata yang memiliki makna khusus dalam bahasa pemrograman Python. Kata False, return, dan for merupakan contoh dari reserved words.\n",
        "\n",
        "  Catatan: Tidak dapat mendeklarasikan variabel dengan menggunakan sebuah reserved word!\n",
        "\n",
        " \n",
        "2. Whitespace: Pada bahasa Python, spasi dan tab memiliki makna khusus untuk menandai serangkaian blok dalam kode Python. Hal ini akan dijelaskan secara lebih lanjut pada bagian struktur pemilihan dan struktur pengulangan pada bahasa Python.\n",
        "\n",
        "\n",
        "3. Comments: Comments merupakan sekumpulan teks yang dituliskan di dalam sebuah program yang tidak akan mempengaruhi hasil dari sebuah program. Walaupun tidak mempengaruhi hasil program, comments merupakan salah satu komponen yang penting dalam pengembangan program. Hal tersebut dikarenakan comments dapat diselipkan di antara sekumpulan statements yang telah dituliskan, untuk berkomunikasi dengan rekan programmer lainnya dalam satu tim. \n",
        "\n",
        "  Terdapat dua jenis comments di dalam Python, yaitu:"
      ],
      "metadata": {
        "id": "F0QMffHenTiT"
      }
    },
    {
      "cell_type": "code",
      "source": [
        "\n",
        "# a. single line comment (comments dalam satu baris) \n",
        "    #comment satu baris\n",
        "\n",
        "'''\n",
        "b. multi line comment (comments dalam beberapa baris) \n",
        "\n",
        "    multi line comment\n",
        "    multi line comment\n",
        "    multi line comment\n",
        "''' "
      ],
      "metadata": {
        "colab": {
          "base_uri": "https://localhost:8080/",
          "height": 35
        },
        "id": "iVGHV0ARoYKR",
        "outputId": "038e329e-df4b-4676-8db3-1ab74c68a8d1"
      },
      "execution_count": null,
      "outputs": [
        {
          "output_type": "execute_result",
          "data": {
            "application/vnd.google.colaboratory.intrinsic+json": {
              "type": "string"
            },
            "text/plain": [
              "'\\nb. multi line comment (comments dalam beberapa baris) \\n\\n    multi line comment\\n    multi line comment\\n    multi line comment\\n'"
            ]
          },
          "metadata": {},
          "execution_count": 6
        }
      ]
    },
    {
      "cell_type": "markdown",
      "source": [
        "==================================================================================================================="
      ],
      "metadata": {
        "id": "gE56feA6z1nJ"
      }
    },
    {
      "cell_type": "markdown",
      "source": [
        ""
      ],
      "metadata": {
        "id": "5OYG86E-r6iY"
      }
    },
    {
      "cell_type": "markdown",
      "source": [
        "# Tipe Data Dasar: Null, Boolean, Numeric dan Text\n",
        "1. Null Type: Tipe data null dalam Python digunakan untuk menyimpan nilai kosong atau tidak ada yang dinyatakan dengan None.\n",
        "\n",
        "2. Boolean Type: Tipe data boolean atau bool digunakan untuk menyimpan nilai kebenaran (True, False) dari suatu ekspresi logika.\n",
        "\n",
        "3. Numeric Type: Tipe data yang digunakan untuk menyimpan data berupa angka. Terdapat dua macam tipe data numeric, yaitu int untuk menyimpan bilangan bulat (e.g.: 0, 1, 2, 404, -500, -1000) dan float untuk menyimpan bilangan riil (e.g.: 0.5, 1.01, 2.05, 4.04)\n",
        "\n",
        "4. Text Type: Pada Python, tipe data string (str) digunakan untuk menyimpan data teks. Tipe data string dimulai dengan tanda kutip (baik kutip satu/ dua) dan diakhir dengan tanda kutip. Contoh: \"Teks\", \"Contoh teks menggunakan Python\", dan 'Teks pada Python'."
      ],
      "metadata": {
        "id": "Dve0Fi-lZcS1"
      }
    },
    {
      "cell_type": "code",
      "source": [
        "x = True\n",
        "y = False\n",
        "contoh_int = 99\n",
        "contoh_float = 45.75\n",
        "contoh_str = 'contoh string'\n",
        "\n",
        "print(x)\n",
        "print(contoh_int)\n",
        "print(contoh_float)\n",
        "print(contoh_str)"
      ],
      "metadata": {
        "id": "pIW9axdDoyh7",
        "colab": {
          "base_uri": "https://localhost:8080/"
        },
        "outputId": "607a52fa-5058-4ec8-dd2d-a91998cea0dc"
      },
      "execution_count": null,
      "outputs": [
        {
          "output_type": "stream",
          "name": "stdout",
          "text": [
            "True\n",
            "99\n",
            "45.75\n",
            "contoh string\n"
          ]
        }
      ]
    },
    {
      "cell_type": "markdown",
      "source": [
        "# Sequence Type – Part 1 (List)\n",
        "Tipe data ini digunakan untuk menampung sekumpulan data secara terorganisir.\n",
        "Bentuk dari tipe data sequence ini adalah List dan Tuple.\n",
        "Pada part 1 ini, aku akan mempelajari tipe data list terlebih dahulu.\n",
        "\n",
        "Tipe data list diawali dengan tanda kurung siku buka ( [ ), memisahkan setiap elemen di dalamnya dengan tanda koma ( , ) dan ditutup dengan kurung siku tutup ( ] )."
      ],
      "metadata": {
        "id": "dBq0i9bOb9QG"
      }
    },
    {
      "cell_type": "code",
      "source": [
        "contoh_list = [1, 'dua', 3.0, True]"
      ],
      "metadata": {
        "id": "XShYQdMucAZZ"
      },
      "execution_count": null,
      "outputs": []
    },
    {
      "cell_type": "markdown",
      "source": [
        "Setiap elemen dari list memiliki indeks yang dimulai dari angka 0 dan terus bertambah satu nilainya hingga elemen terakhir dari list. Sebagai contoh:"
      ],
      "metadata": {
        "id": "-DE7hhS7cTQ1"
      }
    },
    {
      "cell_type": "code",
      "source": [
        "print(contoh_list[0])\n",
        "print(contoh_list[3])"
      ],
      "metadata": {
        "colab": {
          "base_uri": "https://localhost:8080/"
        },
        "id": "DraV0RS1cQRq",
        "outputId": "0d0218a4-4ad2-4b98-a7a4-d880686a0c07"
      },
      "execution_count": null,
      "outputs": [
        {
          "output_type": "stream",
          "name": "stdout",
          "text": [
            "1\n",
            "True\n"
          ]
        }
      ]
    },
    {
      "cell_type": "markdown",
      "source": [
        "Tipe data list bersifat **mutable** yang berarti setiap elemen di dalam list dapat dirubah nilainya setelah proses pendeklarasian list. Sebagai contoh:"
      ],
      "metadata": {
        "id": "s9NiPFGQd-Fz"
      }
    },
    {
      "cell_type": "code",
      "source": [
        "contoh_list = [1, 'dua', 3, 4.0, 5]\n",
        "contoh_list[3] = 'empat'\n",
        "print(contoh_list[3])"
      ],
      "metadata": {
        "colab": {
          "base_uri": "https://localhost:8080/"
        },
        "id": "c2Qx_DWAciUe",
        "outputId": "5c47c78e-2ec6-4575-bc08-72807250d4b6"
      },
      "execution_count": null,
      "outputs": [
        {
          "output_type": "stream",
          "name": "stdout",
          "text": [
            "empat\n"
          ]
        }
      ]
    },
    {
      "cell_type": "markdown",
      "source": [
        "# Sequence Type – Part 2 (Tuple)\n",
        "Tipe data tuple juga berfungsi untuk menampung sekumpulan data. Tipe data ini diawali dengan tanda kurung buka ( ( ), memisahkan setiap elemen di dalamnya dengan tanda koma ( , ) dan ditutup dengan tanda kurung tutup ( ) ). Sebagai contoh:"
      ],
      "metadata": {
        "id": "SwVVzYgEfArG"
      }
    },
    {
      "cell_type": "code",
      "source": [
        "contoh_tuple = (1,'Februari',True,45.67)"
      ],
      "metadata": {
        "id": "X_OMVlL0fHdh"
      },
      "execution_count": null,
      "outputs": []
    },
    {
      "cell_type": "markdown",
      "source": [
        "Aturan indeks dan cara mengakses elemen pada sebuah tuple serupa dengan list. Sebagai contoh:"
      ],
      "metadata": {
        "id": "g69Qi7Mdf9p1"
      }
    },
    {
      "cell_type": "code",
      "source": [
        "contoh_tuple = ('Januari','Februari','Maret','April')\n",
        "print(contoh_tuple[0])"
      ],
      "metadata": {
        "colab": {
          "base_uri": "https://localhost:8080/"
        },
        "id": "v7KqcQ3Af5no",
        "outputId": "9240e3bb-c2bd-4f59-bb92-89f226cc7f25"
      },
      "execution_count": null,
      "outputs": [
        {
          "output_type": "stream",
          "name": "stdout",
          "text": [
            "Januari\n"
          ]
        }
      ]
    },
    {
      "cell_type": "markdown",
      "source": [
        "Berbeda dengan tipe data list, tipe data tuple bersifat immutable yang berarti elemen pada tipe data tuple tidak dapat diubah setelah proses pendeklarasiannya."
      ],
      "metadata": {
        "id": "dM-gYKx4gKGK"
      }
    },
    {
      "cell_type": "code",
      "source": [
        "contoh_tuple = (1,'Februari',True,45.67)\n",
        "contoh_tuple[2] = False"
      ],
      "metadata": {
        "colab": {
          "base_uri": "https://localhost:8080/",
          "height": 183
        },
        "id": "kqOvXD2RgESm",
        "outputId": "92cd644f-9558-4679-f14c-e1afdb434d8d"
      },
      "execution_count": null,
      "outputs": [
        {
          "output_type": "error",
          "ename": "TypeError",
          "evalue": "ignored",
          "traceback": [
            "\u001b[0;31m---------------------------------------------------------------------------\u001b[0m",
            "\u001b[0;31mTypeError\u001b[0m                                 Traceback (most recent call last)",
            "\u001b[0;32m<ipython-input-14-69feaf34349b>\u001b[0m in \u001b[0;36m<module>\u001b[0;34m()\u001b[0m\n\u001b[1;32m      1\u001b[0m \u001b[0mcontoh_tuple\u001b[0m \u001b[0;34m=\u001b[0m \u001b[0;34m(\u001b[0m\u001b[0;36m1\u001b[0m\u001b[0;34m,\u001b[0m\u001b[0;34m'Februari'\u001b[0m\u001b[0;34m,\u001b[0m\u001b[0;32mTrue\u001b[0m\u001b[0;34m,\u001b[0m\u001b[0;36m45.67\u001b[0m\u001b[0;34m)\u001b[0m\u001b[0;34m\u001b[0m\u001b[0;34m\u001b[0m\u001b[0m\n\u001b[0;32m----> 2\u001b[0;31m \u001b[0mcontoh_tuple\u001b[0m\u001b[0;34m[\u001b[0m\u001b[0;36m2\u001b[0m\u001b[0;34m]\u001b[0m \u001b[0;34m=\u001b[0m \u001b[0;32mFalse\u001b[0m\u001b[0;34m\u001b[0m\u001b[0;34m\u001b[0m\u001b[0m\n\u001b[0m",
            "\u001b[0;31mTypeError\u001b[0m: 'tuple' object does not support item assignment"
          ]
        }
      ]
    },
    {
      "cell_type": "markdown",
      "source": [
        "# Set Type\n",
        "Serupa dengan tipe data sequence, tipe data set digunakan untuk menampung sekumpulan data dengan tipe lainnya. Terdapat dua jenis dari tipe data set yaitu, set dan frozenset.\n",
        "\n",
        "Tipe data set diawali dengan tanda kurung buka kurawal ( { ), memisahkan setiap elemen di dalamnya dengan tanda koma ( , ) dan ditutup dengan tanda kurung tutup ( } ). Namun berbeda dengan tipe data sequence, seperti list, tipe data objek tidak mengizinkan adanya elemen dengan nilai yang sama dan tidak memperdulikan urutan dari elemen.\n",
        "\n",
        "Sebagai contoh:"
      ],
      "metadata": {
        "id": "esy_xTaFiWBW"
      }
    },
    {
      "cell_type": "code",
      "source": [
        "contoh_list = ['Dewi','Budi','Cici','Linda','Cici'] \n",
        "print(contoh_list)\n",
        "\n",
        "#Sedangkan pada tipe data set\n",
        "contoh_set = {'Dewi','Budi','Cici','Linda','Cici'}\n",
        "print(contoh_set)"
      ],
      "metadata": {
        "colab": {
          "base_uri": "https://localhost:8080/"
        },
        "id": "dQn4f5uCij3J",
        "outputId": "3242899b-0e1f-4884-8606-b639896abb1b"
      },
      "execution_count": null,
      "outputs": [
        {
          "output_type": "stream",
          "name": "stdout",
          "text": [
            "['Dewi', 'Budi', 'Cici', 'Linda', 'Cici']\n",
            "{'Dewi', 'Budi', 'Cici', 'Linda'}\n"
          ]
        }
      ]
    },
    {
      "cell_type": "markdown",
      "source": [
        "Dari kedua contoh output pada program, dapat terlihat:\n",
        "\n",
        "Berbeda dengan tipe data set, tipe data list memperdulikan urutan dari setiap elemen saat list dideklarasikan.\n",
        "Berbeda dengan list yang mengizinkan adanya duplikasi elemen, tipe data set tidak mengizinkan adanya elemen dengan nilai yang sama di dalamnya. \n",
        "Keunikan dari kedua tipe data ini tentunya menjadi pengetahuan yang berguna.\n",
        "\n",
        "\n",
        "Tipe data frozenset merupakan set yang bersifat immutable, yang artinya setiap elemen di dalam frozenset tidak dapat diubah setelah proses deklarasinya. Untuk membuat tipe data frozenset."
      ],
      "metadata": {
        "id": "nm_HU1AJjwfY"
      }
    },
    {
      "cell_type": "code",
      "source": [
        "contoh_frozen_set = ({'Dewi','Budi','Cici','Linda','Cici'})\n",
        "print(contoh_frozen_set)"
      ],
      "metadata": {
        "colab": {
          "base_uri": "https://localhost:8080/"
        },
        "id": "oHsScz-Mjxun",
        "outputId": "dd139c94-5e38-4b9b-fa72-95af6bb90693"
      },
      "execution_count": null,
      "outputs": [
        {
          "output_type": "stream",
          "name": "stdout",
          "text": [
            "{'Dewi', 'Budi', 'Cici', 'Linda'}\n"
          ]
        }
      ]
    },
    {
      "cell_type": "markdown",
      "source": [
        "# Mapping Type (Dictionary)\n",
        "Tipe data mapping dapat digunakan untuk memetakan sebuah nilai ke nilai lainnya. Dalam Python, tipe data mapping disebut dengan istilah dictionary. Tipe data dictionary dapat dideklarasikan dengan diawali oleh tanda kurung buka kurawal** ( { ), memisahkan setiap elemen di dalamnya dengan tanda koma ( , ) dan ditutup dengan tanda kurung tutup ( } )**. Setiap elemen pada tipe data dictionary dideklarasikan dengan format:"
      ],
      "metadata": {
        "id": "fFy-6SnSklIF"
      }
    },
    {
      "cell_type": "code",
      "source": [
        "#  'kunci' : 'nilai'"
      ],
      "metadata": {
        "id": "9vdG8lzWkyAb"
      },
      "execution_count": null,
      "outputs": []
    },
    {
      "cell_type": "markdown",
      "source": [
        "Hal inilah yang membedakan tipe data mapping dengan tipe data set. Untuk lebih memperjelas tipe data mapping, aku mempelajari potongan kode berikut:"
      ],
      "metadata": {
        "id": "jYvCcGSRlMjp"
      }
    },
    {
      "cell_type": "code",
      "source": [
        "person = {'nama':'Taufik', 'pekerjaan':'Data Engineer'}"
      ],
      "metadata": {
        "id": "prc6AIA6lFBw"
      },
      "execution_count": null,
      "outputs": []
    },
    {
      "cell_type": "markdown",
      "source": [
        "Potongan kode di atas adalah contoh pendeklarasian dari tipe data dictionary. Kemudian, bagaimana dengan cara mengakses informasi dari tipe data ini?"
      ],
      "metadata": {
        "id": "aauXMfEIlZR3"
      }
    },
    {
      "cell_type": "code",
      "source": [
        "print(person['nama'])\n",
        "print(person['pekerjaan'])"
      ],
      "metadata": {
        "colab": {
          "base_uri": "https://localhost:8080/"
        },
        "id": "_E63MRwmlUwm",
        "outputId": "f8bfa30c-fd46-4a92-9a64-1683f04f5736"
      },
      "execution_count": null,
      "outputs": [
        {
          "output_type": "stream",
          "name": "stdout",
          "text": [
            "Taufik\n",
            "Data Engineer\n"
          ]
        }
      ]
    },
    {
      "cell_type": "markdown",
      "source": [
        "Untuk mengakses elemen dari sebuah dictionary, aku hanya perlu menspesifikasikan kata kunci yang terdapat dalam dictionary tersebut."
      ],
      "metadata": {
        "id": "xYOdgZKJlkZp"
      }
    },
    {
      "cell_type": "markdown",
      "source": [
        "# LATIHAN"
      ],
      "metadata": {
        "id": "StoyJFtzl3KY"
      }
    },
    {
      "cell_type": "code",
      "source": [
        "# Data yang dinyatakan ke dalam dictionary\n",
        "sepatu = {\"nama\": \"Sepatu Niko\", \"harga\": 150000, \"diskon\": 30000 }\n",
        "baju = {\"nama\": \"Baju Unikloh\", \"harga\": 80000, \"diskon\": 8000}\n",
        "celana = {\"nama\": \"Celana Lepis\", \"harga\": 200000, \"diskon\": 60000}\n",
        "daftar_belanja = [sepatu, baju, celana]\n",
        "\n",
        "# Hitunglah harga masing-masing data setelah dikurangi diskon\n",
        "harga_sepatu = sepatu[\"harga\"] - sepatu[\"diskon\"] \n",
        "harga_baju = baju[\"harga\"] - baju[\"diskon\"]\n",
        "harga_celana = celana[\"harga\"] - celana[\"diskon\"]\n",
        "# Hitung harga total\n",
        "total_harga = harga_sepatu + harga_baju + harga_celana\n",
        "# Hitung harga kena pajak\n",
        "total_pajak = total_harga * 0.1  #pajak 10%\n",
        "# Cetak total_harga + total_pajak\n",
        "print(total_harga + total_pajak)\n",
        "\n",
        "#Melakukan Penyederhanaan Baris\n",
        "sepatu = { \"nama\" : \"Sepatu Niko\", \"harga\": 150000, \"diskon\": 30000 }\n",
        "baju = { \"nama\" : \"Baju Unikloh\", \"harga\": 80000, \"diskon\": 8000 }\n",
        "celana = { \"nama\" : \"Celana Lepis\", \"harga\": 200000, \"diskon\": 60000 }\n",
        "harga_sepatu = sepatu[\"harga\"] - sepatu[\"diskon\"]\n",
        "harga_baju = baju[\"harga\"] - baju[\"diskon\"]\n",
        "harga_celana = celana[\"harga\"] - celana[\"diskon\"]\n",
        "total_harga = (harga_sepatu+ harga_baju+ harga_celana) * 1.1 \n",
        "print(total_harga)"
      ],
      "metadata": {
        "colab": {
          "base_uri": "https://localhost:8080/"
        },
        "id": "YfRJS4Xcl8A4",
        "outputId": "ecf0f0ad-0fa2-45c5-ecd8-c4e55f0be36c"
      },
      "execution_count": null,
      "outputs": [
        {
          "output_type": "stream",
          "name": "stdout",
          "text": [
            "365200.0\n",
            "365200.00000000006\n"
          ]
        }
      ]
    },
    {
      "cell_type": "markdown",
      "source": [
        "\n",
        "\n",
        "---\n",
        "\n",
        "\n",
        "\n",
        "---\n",
        "\n"
      ],
      "metadata": {
        "id": "IJrj0yA3s2W8"
      }
    },
    {
      "cell_type": "markdown",
      "source": [
        "# Di dalam Python, operator terbagi ke dalam 6 kelompok Operator:\n",
        "\n",
        "1. Arithmetic operators\n",
        "2. Assignment operators\n",
        "3. Comparison operators\n",
        "4. Logical operators\n",
        "5. Identity operators\n",
        "6. Membership operators"
      ],
      "metadata": {
        "id": "P_uoZyijsCIu"
      }
    },
    {
      "cell_type": "code",
      "source": [
        "# Penambahan\n",
        "3 + 4\n",
        "\n",
        "# Pengurangan\n",
        "7 - 2\n",
        "\n",
        "# Perkalian\n",
        "6 * 9\n",
        "\n",
        "# Pembagian\n",
        "8 / 4\n",
        "\n",
        "# Modulus\n",
        "7 % 2\n",
        "10 % 5\n",
        "\n",
        "# Pangkat\n",
        "10 ** 2\n",
        "\n",
        "# Pembagian dengan Pembulatan Kebawah\n",
        "5 // 2"
      ],
      "metadata": {
        "colab": {
          "base_uri": "https://localhost:8080/"
        },
        "id": "Td0LI9gnsZfh",
        "outputId": "f7b58a6a-dc70-4d03-d2e0-1fc863bb2cd6"
      },
      "execution_count": null,
      "outputs": [
        {
          "output_type": "execute_result",
          "data": {
            "text/plain": [
              "2"
            ]
          },
          "metadata": {},
          "execution_count": 23
        }
      ]
    },
    {
      "cell_type": "markdown",
      "source": [
        "# Latihan"
      ],
      "metadata": {
        "id": "JqB0HqgI8erR"
      }
    },
    {
      "cell_type": "code",
      "source": [
        "# Kode awal\n",
        "total_harga = 150000\n",
        "potongan_harga = 0.3  #diskon 30%\n",
        "pajak = 0.1 # pajak dalam persen ~ 10%\n",
        "harga_bayar = 1 - 0.5 # baris pertama\n",
        "harga_bayar *= total_harga # baris kedua\n",
        "pajak_bayar = pajak * harga_bayar # baris ketiga\n",
        "harga_bayar += pajak_bayar # baris ke-4\n",
        "print(\"Kode awal -> harga_bayar=\", harga_bayar)\n",
        "\n",
        "\n",
        "# Melakukan Penyederhanaan baris kode dengan menerapkan prioritas operator\n",
        "total_harga = 150000\n",
        "potongan_harga = 0.3  # diskon 30%\n",
        "pajak = 0.1 # pajak dalam persen ~ 10%\n",
        "harga_bayar = (1 - 0.5) * total_harga #baris pertama \n",
        "harga_bayar += harga_bayar * pajak # baris kedua\n",
        "print(\"Penyederhanaan kode -> harga_bayar=\", harga_bayar)"
      ],
      "metadata": {
        "colab": {
          "base_uri": "https://localhost:8080/"
        },
        "id": "IrkVYRj38kpw",
        "outputId": "063acd62-3c75-44c4-bb97-b5d0e96b3c5e"
      },
      "execution_count": null,
      "outputs": [
        {
          "output_type": "stream",
          "name": "stdout",
          "text": [
            "Kode awal -> harga_bayar= 82500.0\n",
            "Penyederhanaan kode -> harga_bayar= 82500.0\n"
          ]
        }
      ]
    },
    {
      "cell_type": "code",
      "source": [
        "bilangan = (5 % 3 ** 2) + (3 + 2 * 2) * (4 - 2) \n",
        "print(bilangan)"
      ],
      "metadata": {
        "colab": {
          "base_uri": "https://localhost:8080/"
        },
        "id": "uz6MsogJ-UP_",
        "outputId": "9a067f77-8645-4ea3-c809-c25c184ae14c"
      },
      "execution_count": null,
      "outputs": [
        {
          "output_type": "stream",
          "name": "stdout",
          "text": [
            "19\n"
          ]
        }
      ]
    },
    {
      "cell_type": "markdown",
      "source": [
        "\n",
        "\n",
        "---\n",
        "\n",
        "\n",
        "\n",
        "---\n"
      ],
      "metadata": {
        "id": "QVWtar4qC_ww"
      }
    },
    {
      "cell_type": "markdown",
      "source": [
        "# Python Conditioning for Decision\n",
        "\n",
        "Layaknya bahasa pemrograman lainnya, bahasa pemrograman Python menyediakan statemen desisi (decision statement) untuk berinteraksi dengan variabel bertipe boolean dan operator logika.\n",
        "\n",
        "\n",
        "Dengan *conditions* berisikan operator yang mengembalikan nilai kebenaran; ataupun beberapa operator yang mengembalikan nilai kebenaran, yang digabungkan dengan operator logika.  Melalui  sebuah statemen desisi (if statement), <do_action_1> sampai dengan <do_action_n> akan dijalankan saat *conditions* bernilai True.\n",
        "\n",
        " \n",
        "Dalam menuliskan serangkaian aksi (<do_action_1>, ... , <do_action_n>) dalam sebuah statemen if, aku harus mengemas setiap aksi dalam sebuah blok dengan menambahkan indentasi (jorokan) dari pada aksi."
      ],
      "metadata": {
        "id": "a3r3Tb5LDLIG"
      }
    },
    {
      "cell_type": "code",
      "source": [
        "# Statement if\n",
        "x = 4\n",
        "if x % 2 == 0: # jika sisa bagi x dengan 2 sama dengan 0\n",
        "    print(\"x habis dibagi dua\") # statemen aksi lebih menjorok ke dalam\n",
        "# Statement if ... elif ... else\n",
        "x = 7\n",
        "if x % 2 == 0: # jika sisa bagi x dengan 2 sama dengan 0\n",
        "    print(\"x habis dibagi dua\")\n",
        "elif x % 3 == 0: # jika sisa bagi x dengan 3 sama dengan 0\n",
        "    print(\"x habis dibagi tiga\")\n",
        "elif x % 5 == 0: # jika sisa bagi x dengan 5 sama dengan 0\n",
        "    print(\"x habis dibagi 5\")\n",
        "else:\n",
        "    print(\"x tidak habis dibagi dua, tiga ataupun lima\")"
      ],
      "metadata": {
        "colab": {
          "base_uri": "https://localhost:8080/"
        },
        "id": "TCHMeYNkDBoF",
        "outputId": "8119beaa-cc53-42e9-9a30-12f8ed5b6143"
      },
      "execution_count": null,
      "outputs": [
        {
          "output_type": "stream",
          "name": "stdout",
          "text": [
            "x habis dibagi dua\n",
            "x tidak habis dibagi dua, tiga ataupun lima\n"
          ]
        }
      ]
    },
    {
      "cell_type": "markdown",
      "source": [
        "Kemudian, untuk melengkapi sebuah statement if, aku bisa menambahkan satu ataupun lebih statemen desisi elif, untuk melakukan pengecekan kondisi lainnya, saat kondisi dalam statement if atau elif di atasnya tidak terpenuhi.\n",
        "\n",
        "ps: Aku juga bisa mengubah nilai x sehingga lebih mudah memahami statemen desisi mana yang akan dieksekusi oleh potongan kode yang telah aku jalankan."
      ],
      "metadata": {
        "id": "UwvkygEWGF_T"
      }
    },
    {
      "cell_type": "code",
      "source": [
        " jam = 13\n",
        "if jam >= 5 and jam <= 12: # selama jam di antara 5 s.d. 12\n",
        "    print(\"Selamat pagi!\")\n",
        "elif jam >= 12 and jam <= 17: # selama jam di antara 12 s.d. 17\n",
        "    print(\"Selamat siang!\")\n",
        "elif jam >= 17 and jam <= 19: # selama jam di antara 17 s.d. 19\n",
        "    print(\"Selamat sore!\")\n",
        "else: # selain kondisi di atas\n",
        "    print(\"Selamat malam!\")"
      ],
      "metadata": {
        "colab": {
          "base_uri": "https://localhost:8080/"
        },
        "id": "nmaSGY87D5e2",
        "outputId": "aaa44b27-d44e-43e5-bff8-88c79cdb6dc2"
      },
      "execution_count": null,
      "outputs": [
        {
          "output_type": "stream",
          "name": "stdout",
          "text": [
            "Selamat siang!\n"
          ]
        }
      ]
    },
    {
      "cell_type": "markdown",
      "source": [
        "# Python Conditioning for Decision\n",
        "\n",
        "Dari yang aku pelajari pada bagian awal dari statemen desisi, operator desisi juga dapat digunakan dengan operator logika. \n",
        "\n",
        "Sebagai catatan tambahan, aku juga belajar bahwa aksi dalam sebuah desisi statemen dapat dituliskan desisi statemen tambahan (lainnya) yang dikenal dengan istilah nested if."
      ],
      "metadata": {
        "id": "7__MqkDeV34G"
      }
    },
    {
      "cell_type": "markdown",
      "source": [
        "# LATIHAN"
      ],
      "metadata": {
        "id": "yBi2RD7wY4gU"
      }
    },
    {
      "cell_type": "code",
      "source": [
        "jam = 17\n",
        "tagihan_ke = 'Mr. Yoyo'\n",
        "warehousing = { 'harga_harian': 1000000, 'total_hari':15 } \n",
        "cleansing = { 'harga_harian': 1500000, 'total_hari':10 } \n",
        "integration = { 'harga_harian':2000000, 'total_hari':15 } \n",
        "transform = { 'harga_harian':2500000, 'total_hari':10 }\n",
        "\n",
        "sub_warehousing = warehousing['harga_harian']*warehousing['total_hari'] \n",
        "sub_cleansing = cleansing['harga_harian']*cleansing['total_hari'] \n",
        "sub_integration = integration['harga_harian']*integration['total_hari'] \n",
        "sub_transform = transform['harga_harian']*transform['total_hari']\n",
        "total_harga = sub_warehousing+sub_cleansing+sub_integration+sub_transform\n",
        "\n",
        "print(\"Tagihan kepada:\")\n",
        "print(tagihan_ke)\n",
        "if jam > 19:\n",
        "    print(\"Selamat malam, anda harus membayar tagihan sebesar:\")\n",
        "elif jam > 17:\n",
        "    print(\"Selamat sore, anda harus membayar tagihan sebesar:\") \n",
        "elif jam > 12:\n",
        "    print(\"Selamat siang, anda harus membayar tagihan sebesar:\")\n",
        "else:\n",
        "    print(\"Selamat pagi, anda harus membayar tagihan sebesar:\") \n",
        "print(total_harga)"
      ],
      "metadata": {
        "colab": {
          "base_uri": "https://localhost:8080/"
        },
        "id": "zZwALBB3V9Hu",
        "outputId": "95131619-503b-4910-ab5a-7ac4c6f337d8"
      },
      "execution_count": null,
      "outputs": [
        {
          "output_type": "stream",
          "name": "stdout",
          "text": [
            "Tagihan kepada:\n",
            "Mr. Yoyo\n",
            "Selamat siang, anda harus membayar tagihan sebesar:\n",
            "85000000\n"
          ]
        }
      ]
    },
    {
      "cell_type": "markdown",
      "source": [
        "# Python Primitive Loop Control\n",
        "\n",
        "Loop Control merupakan salah satu fitur yang mengizinkan penggunanya untuk melakukan serangkaian aksi, selama suatu kondisi yang telah ditetapkan bernilai benar. Dalam Python, terdapat dua bentuk primitif dari loop kontrol (struktur pengulangan), yaitu\n",
        "\n",
        "while loops\n",
        "\n",
        "for loops"
      ],
      "metadata": {
        "id": "DzGv9dt6Z4f5"
      }
    },
    {
      "cell_type": "markdown",
      "source": [
        "# Latihan While Loops"
      ],
      "metadata": {
        "id": "CX9HASwze_hl"
      }
    },
    {
      "cell_type": "code",
      "source": [
        "# Tagihan\n",
        "tagihan = [50000, 75000, 125000, 300000, 200000]\n",
        "# Tanpa menggunakan while loop\n",
        "total_tagihan = tagihan[0] + tagihan[1] + tagihan[2] + tagihan[3] + tagihan[4]\n",
        "print(total_tagihan)\n",
        "\n",
        "\n",
        "# Dengan menggunakan while loop\n",
        "i = 0 # sebuah variabel untuk mengakses setiap elemen tagihan satu per satu\n",
        "jumlah_tagihan = len(tagihan) # panjang (jumlah elemen dalam) list tagihan\n",
        "total_tagihan = 0 # mula-mula, set total_tagihan ke 0\n",
        "while i < jumlah_tagihan: # selama nilai i kurang dari jumlah_tagihan\n",
        "    total_tagihan += tagihan[i] # tambahkan tagihan[i] ke total_tagihan\n",
        "    i += 1 # tambahkan nilai i dengan 1 untuk memproses tagihan selanjutnya.\n",
        "print(total_tagihan)"
      ],
      "metadata": {
        "colab": {
          "base_uri": "https://localhost:8080/"
        },
        "id": "1BBr459WZ8rh",
        "outputId": "3561e241-920c-45fd-ca72-3d9194ca68a4"
      },
      "execution_count": null,
      "outputs": [
        {
          "output_type": "stream",
          "name": "stdout",
          "text": [
            "750000\n",
            "750000\n"
          ]
        }
      ]
    },
    {
      "cell_type": "markdown",
      "source": [
        "Dari latihan di atas, aku belajar bahwa statemen while akan terus menjalankan aksi di dalamnya, selama kondisi yang dituliskan di samping kanan statemen while terus terpenuhi. Melalui penambahan nilai i sebagai salah satu aksi dalam statemen while, saat nilai i = 4, kondisi dari statemen while tidak akan terpenuhi dan eksekusi program akan dilanjutkan ke perintah print(total_tagihan)."
      ],
      "metadata": {
        "id": "KOhbm7LycGfv"
      }
    },
    {
      "cell_type": "markdown",
      "source": [
        "\n",
        "\n",
        "---\n",
        "\n",
        "\n",
        "Dalam sebuah struktur kontrol pengulangan, aku dapat menggunakan perintah break \n",
        "untuk keluar dari struktur pengulangan dan perintah continue untuk melanjutkan proses pengulangan berikutnya. "
      ],
      "metadata": {
        "id": "ZMMqUjqAcM6L"
      }
    },
    {
      "cell_type": "code",
      "source": [
        "#Contoh Perintah Break\n",
        "tagihan = [50000, 75000, -150000, 125000, 300000, -50000, 200000]\n",
        "i = 0\n",
        "jumlah_tagihan = len(tagihan)\n",
        "total_tagihan = 0\n",
        "while i < jumlah_tagihan:\n",
        "    # jika terdapat tagihan ke-i yang bernilai minus (di bawah nol),\n",
        "    # pengulangan akan dihentikan\n",
        "    if tagihan[i] < 0:\n",
        "        total_tagihan = -1\n",
        "        print(\"terdapat angka minus dalam tagihan, perhitungan dihentikan!\")\n",
        "        break\n",
        "    total_tagihan += tagihan[i]\n",
        "    i += 1\n",
        "print(total_tagihan)"
      ],
      "metadata": {
        "colab": {
          "base_uri": "https://localhost:8080/"
        },
        "id": "mld250XccfWy",
        "outputId": "fd08330a-ebbb-4527-8bd4-38f32b98dc09"
      },
      "execution_count": null,
      "outputs": [
        {
          "output_type": "stream",
          "name": "stdout",
          "text": [
            "terdapat angka minus dalam tagihan, perhitungan dihentikan!\n",
            "-1\n"
          ]
        }
      ]
    },
    {
      "cell_type": "code",
      "source": [
        "#Contoh Perintah Continue\n",
        "tagihan = [50000, 75000, -150000, 125000, 300000, -50000, 200000]\n",
        "i = 0\n",
        "jumlah_tagihan = len(tagihan)\n",
        "total_tagihan = 0\n",
        "while i < jumlah_tagihan:\n",
        "    # jika terdapat tagihan ke-i yang bernilai minus (di bawah nol),\n",
        "    # abaikan tagihan ke-i dan lanjutkan ke tagihan berikutnya\n",
        "    if tagihan[i] < 0:\n",
        "        i += 1\n",
        "        continue\n",
        "    total_tagihan += tagihan[i]\n",
        "    i += 1\n",
        "print(total_tagihan)"
      ],
      "metadata": {
        "colab": {
          "base_uri": "https://localhost:8080/"
        },
        "id": "LGd2VfY-dU8j",
        "outputId": "929addae-98d5-448d-913f-078585b518fa"
      },
      "execution_count": null,
      "outputs": [
        {
          "output_type": "stream",
          "name": "stdout",
          "text": [
            "750000\n"
          ]
        }
      ]
    },
    {
      "cell_type": "markdown",
      "source": [
        "## Latihan For Loop"
      ],
      "metadata": {
        "id": "B7ZRJIl-fLAj"
      }
    },
    {
      "cell_type": "code",
      "source": [
        "list_tagihan = [50000, 75000, -150000, 125000, 300000, -50000, 200000]\n",
        "total_tagihan = 0\n",
        "for tagihan in list_tagihan: # untuk setiap tagihan dalam list_tagihan\n",
        "    total_tagihan += tagihan # tambahkan tagihan ke total_tagihan\n",
        "print(total_tagihan)"
      ],
      "metadata": {
        "colab": {
          "base_uri": "https://localhost:8080/"
        },
        "id": "Y8-0IkjFfPCO",
        "outputId": "aa8c23d7-b828-4dab-b999-0fe35c75ccbd"
      },
      "execution_count": null,
      "outputs": [
        {
          "output_type": "stream",
          "name": "stdout",
          "text": [
            "550000\n"
          ]
        }
      ]
    },
    {
      "cell_type": "markdown",
      "source": [
        "Serupa dengan struktur pengulangan while, aku juga dapat memanfaatkan statement break dan continue di dalamnya. "
      ],
      "metadata": {
        "id": "4Hm-yk2dfqi7"
      }
    },
    {
      "cell_type": "code",
      "source": [
        "list_tagihan = [50000, 75000, -150000, 125000, 300000, -50000, 200000]\n",
        "\n",
        "# For loops with break\n",
        "print(\"For loops with break\")\n",
        "total_tagihan_break = 0\n",
        "for tagihan in list_tagihan:\n",
        "    if tagihan < 0:\n",
        "        print(\"Terdapat angka minus dalam tagihan, perhitungan dihentikan!\")\n",
        "        break\n",
        "    total_tagihan_break += tagihan\n",
        "print(\"Total tagihan %d.\" % total_tagihan_break)\n",
        "print()\n",
        "\n",
        "# For loops with continue\n",
        "print(\"For loops with continue\")\n",
        "total_tagihan_continue = 0\n",
        "for tagihan in list_tagihan:\n",
        "    if tagihan < 0:\n",
        "        print(\"Terdapat angka minus dalam tagihan, tagihan %d dilewati!\" % tagihan)\n",
        "        continue\n",
        "    total_tagihan_continue += tagihan\n",
        "print(\"Total tagihan %d.\" % total_tagihan_continue)"
      ],
      "metadata": {
        "colab": {
          "base_uri": "https://localhost:8080/"
        },
        "id": "EDH2aQ37fSSH",
        "outputId": "8c4e7187-308a-4313-d2ec-3242f505046c"
      },
      "execution_count": null,
      "outputs": [
        {
          "output_type": "stream",
          "name": "stdout",
          "text": [
            "For loops with break\n",
            "Terdapat angka minus dalam tagihan, perhitungan dihentikan!\n",
            "Total tagihan 125000.\n",
            "\n",
            "For loops with continue\n",
            "Terdapat angka minus dalam tagihan, tagihan -150000 dilewati!\n",
            "Terdapat angka minus dalam tagihan, tagihan -50000 dilewati!\n",
            "Total tagihan 750000.\n"
          ]
        }
      ]
    },
    {
      "cell_type": "markdown",
      "source": [
        "# Nested Loops\n",
        "yaitu pengulangan bersarang. Dengan nested loops, aku dapat mengkombinasikan (menambahkan) struktur pengulangan lain di dalamnya."
      ],
      "metadata": {
        "id": "m3mQNwsYgb3P"
      }
    },
    {
      "cell_type": "code",
      "source": [
        "list_daerah = ['Malang', 'Palembang', 'Medan']\n",
        "list_buah = ['Apel', 'Duku', 'Jeruk']\n",
        "for nama_daerah in list_daerah:\n",
        "    for nama_buah in list_buah:\n",
        "        print(nama_buah+\" \"+nama_daerah)"
      ],
      "metadata": {
        "colab": {
          "base_uri": "https://localhost:8080/"
        },
        "id": "zmzhU4zXfrXt",
        "outputId": "a39b2e13-70fb-43fd-c955-45be1f29841a"
      },
      "execution_count": null,
      "outputs": [
        {
          "output_type": "stream",
          "name": "stdout",
          "text": [
            "Apel Malang\n",
            "Duku Malang\n",
            "Jeruk Malang\n",
            "Apel Palembang\n",
            "Duku Palembang\n",
            "Jeruk Palembang\n",
            "Apel Medan\n",
            "Duku Medan\n",
            "Jeruk Medan\n"
          ]
        }
      ]
    },
    {
      "cell_type": "markdown",
      "source": [
        "# LATIHAN"
      ],
      "metadata": {
        "id": "wowLHCaYiHSt"
      }
    },
    {
      "cell_type": "code",
      "source": [
        "list_cash_flow = [\n",
        "2500000, 5000000, -1000000, -2500000, 5000000, 10000000,\n",
        "-5000000, 7500000, 10000000, -1500000, 25000000, -2500000\n",
        "]\n",
        "total_pengeluaran, total_pemasukan = 0, 0\n",
        "for dana in list_cash_flow: \n",
        "    if dana > 0:\n",
        "        total_pemasukan += dana \n",
        "    else:\n",
        "        total_pengeluaran += dana\n",
        "total_pengeluaran *= -1\n",
        "print(total_pengeluaran) \n",
        "print(total_pemasukan)"
      ],
      "metadata": {
        "colab": {
          "base_uri": "https://localhost:8080/"
        },
        "id": "EBhPNVAviL9r",
        "outputId": "c936eb9e-724e-4bd4-fdfa-3cab94184f46"
      },
      "execution_count": null,
      "outputs": [
        {
          "output_type": "stream",
          "name": "stdout",
          "text": [
            "12500000\n",
            "65000000\n"
          ]
        }
      ]
    },
    {
      "cell_type": "code",
      "source": [
        "# Data\n",
        "uang_jalan = 1500000\n",
        "jumlah_hari = 31\n",
        "list_plat_nomor = [8993, 2198, 2501, 2735, 3772, 4837, 9152]\n",
        "# Pengecekan kendaraan dengan nomor pelat ganjil atau genap \n",
        "# Deklarasikan kendaraan_genap dan kendaraan_ganjil = 0\n",
        "kendaraan_genap = 0 \n",
        "kendaraan_ganjil = 0\n",
        "for plat_nomor in list_plat_nomor:\n",
        "    if plat_nomor % 2 == 0:\n",
        "        kendaraan_genap += 1 \n",
        "    else:\n",
        "        kendaraan_ganjil += 1\n",
        "# Total pengeluaran untuk kendaraan dengan nomor pelat ganjil \n",
        "# dan genap dalam 1 bulan\n",
        "i = 1\n",
        "total_pengeluaran = 0\n",
        "while i <= jumlah_hari:\n",
        "    if i % 2 == 0:\n",
        "        total_pengeluaran += (kendaraan_genap * uang_jalan)\n",
        "    else:\n",
        "        total_pengeluaran += (kendaraan_ganjil * uang_jalan) \n",
        "    i += 1\n",
        "# Cetak total pengeluaran\n",
        "print(total_pengeluaran)"
      ],
      "metadata": {
        "colab": {
          "base_uri": "https://localhost:8080/"
        },
        "id": "KOcBh_YCmw0Z",
        "outputId": "35053eda-cecd-43f9-b42e-8fdf5bbe9062"
      },
      "execution_count": null,
      "outputs": [
        {
          "output_type": "stream",
          "name": "stdout",
          "text": [
            "163500000\n"
          ]
        }
      ]
    },
    {
      "cell_type": "markdown",
      "source": [
        "# SUMMARY\n",
        "\n",
        "Dari materi yang telah aku pelajari dan praktekkan, aku telah mempelajari:\n",
        "\n",
        "1. Alasan Python secara luas digunakan dalam komputasi saintifik, web, ranah data (data domain).\n",
        "2. Konstruksi dari struktur bahasa pemrograman Python.\n",
        "3. Teknik mempraktekkan penggunaan tipe data pada Python.\n",
        "4. Teknik mempraktekkan penggunaan jenis-jenis operator pada Python.\n",
        "5. Teknik mempraktekkan penggunaan pengkondisian untuk pengambilan keputusan dan perulangan pada Python.\n",
        "6. Program Python untuk penyelesaian kasus bisnis sederhana."
      ],
      "metadata": {
        "id": "rofQmAIIno0A"
      }
    }
  ]
}